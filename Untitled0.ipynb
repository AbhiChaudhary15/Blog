{
  "nbformat": 4,
  "nbformat_minor": 0,
  "metadata": {
    "colab": {
      "provenance": [],
      "authorship_tag": "ABX9TyNlg93DQQYLWUlK7hE+MIr7",
      "include_colab_link": true
    },
    "kernelspec": {
      "name": "python3",
      "display_name": "Python 3"
    },
    "language_info": {
      "name": "python"
    }
  },
  "cells": [
    {
      "cell_type": "markdown",
      "metadata": {
        "id": "view-in-github",
        "colab_type": "text"
      },
      "source": [
        "<a href=\"https://colab.research.google.com/github/AbhiChaudhary15/Blog/blob/main/Untitled0.ipynb\" target=\"_parent\"><img src=\"https://colab.research.google.com/assets/colab-badge.svg\" alt=\"Open In Colab\"/></a>"
      ]
    },
    {
      "cell_type": "code",
      "execution_count": null,
      "metadata": {
        "id": "X6OHscRYP2Vd"
      },
      "outputs": [],
      "source": []
    },
    {
      "cell_type": "code",
      "source": [
        "from sklearn.datasets import fetch_20newsgroups\n",
        "from sklearn.feature_extraction.text import TfidfVectorizer\n",
        "from sklearn.naive_bayes import MultinomialNB\n",
        "from sklearn.metrics import accuracy_score\n"
      ],
      "metadata": {
        "id": "fwiklH0hP6Ub"
      },
      "execution_count": 1,
      "outputs": []
    },
    {
      "cell_type": "code",
      "source": [
        "# Load training and testing data from sklearn\n",
        "train = fetch_20newsgroups(subset='train')\n",
        "test = fetch_20newsgroups(subset='test')\n",
        "\n",
        "print(\"Number of training documents:\", len(train.data))\n",
        "print(\"Number of testing documents:\", len(test.data))\n",
        "print(\"Number of categories:\", len(train.target_names))\n"
      ],
      "metadata": {
        "colab": {
          "base_uri": "https://localhost:8080/"
        },
        "id": "099d7sKZQE13",
        "outputId": "d802d9a0-ff06-43ab-f555-b6c4f0676096"
      },
      "execution_count": 2,
      "outputs": [
        {
          "output_type": "stream",
          "name": "stdout",
          "text": [
            "Number of training documents: 11314\n",
            "Number of testing documents: 7532\n",
            "Number of categories: 20\n"
          ]
        }
      ]
    },
    {
      "cell_type": "code",
      "source": [
        "# Convert text into numerical TF-IDF features\n",
        "vectorizer = TfidfVectorizer()\n",
        "X_train = vectorizer.fit_transform(train.data)\n",
        "X_test = vectorizer.transform(test.data)\n",
        "\n",
        "print(\"Feature matrix shape:\", X_train.shape)\n"
      ],
      "metadata": {
        "colab": {
          "base_uri": "https://localhost:8080/"
        },
        "id": "bziOxQ8aQN1p",
        "outputId": "5292dabb-4883-45e9-df27-a7b32d2b7e67"
      },
      "execution_count": 3,
      "outputs": [
        {
          "output_type": "stream",
          "name": "stdout",
          "text": [
            "Feature matrix shape: (11314, 130107)\n"
          ]
        }
      ]
    },
    {
      "cell_type": "code",
      "source": [
        "# Train a Naive Bayes model\n",
        "model = MultinomialNB()\n",
        "model.fit(X_train, train.target)\n",
        "\n",
        "print(\"Model training complete!\")\n"
      ],
      "metadata": {
        "colab": {
          "base_uri": "https://localhost:8080/"
        },
        "id": "_Jc_At5aQYJC",
        "outputId": "77796b45-58e8-4a68-d38d-e09e99815b82"
      },
      "execution_count": 4,
      "outputs": [
        {
          "output_type": "stream",
          "name": "stdout",
          "text": [
            "Model training complete!\n"
          ]
        }
      ]
    },
    {
      "cell_type": "code",
      "source": [
        "# Predict on test data\n",
        "predictions = model.predict(X_test)\n",
        "\n",
        "# Calculate accuracy\n",
        "acc = accuracy_score(test.target, predictions)\n",
        "print(f\"Accuracy: {acc:.2f}\")\n"
      ],
      "metadata": {
        "colab": {
          "base_uri": "https://localhost:8080/"
        },
        "id": "rqEG2N-2QcOo",
        "outputId": "39c08277-5174-464a-89f1-018eb18036ad"
      },
      "execution_count": 5,
      "outputs": [
        {
          "output_type": "stream",
          "name": "stdout",
          "text": [
            "Accuracy: 0.77\n"
          ]
        }
      ]
    },
    {
      "cell_type": "code",
      "source": [
        "# Predict category for user input text\n",
        "def predict_news(text):\n",
        "    text_vec = vectorizer.transform([text])\n",
        "    pred_class = model.predict(text_vec)[0]\n",
        "    return train.target_names[pred_class]\n",
        "\n",
        "# Example custom tests\n",
        "examples = [\n",
        "    \"NASA announces a new mission to Mars\",\n",
        "    \"The new smartphone model is released with better battery life\",\n",
        "    \"The government is discussing new education reforms\",\n",
        "]\n",
        "\n",
        "for ex in examples:\n",
        "    print(f\"Text: {ex}\\nPredicted category: {predict_news(ex)}\\n\")\n"
      ],
      "metadata": {
        "colab": {
          "base_uri": "https://localhost:8080/"
        },
        "id": "H6N5SGq4QgpU",
        "outputId": "69b8f08f-4b92-4b11-c8a3-6a83d3f0a121"
      },
      "execution_count": 6,
      "outputs": [
        {
          "output_type": "stream",
          "name": "stdout",
          "text": [
            "Text: NASA announces a new mission to Mars\n",
            "Predicted category: sci.space\n",
            "\n",
            "Text: The new smartphone model is released with better battery life\n",
            "Predicted category: rec.autos\n",
            "\n",
            "Text: The government is discussing new education reforms\n",
            "Predicted category: talk.politics.misc\n",
            "\n"
          ]
        }
      ]
    }
  ]
}